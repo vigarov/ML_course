{
 "cells": [
  {
   "cell_type": "code",
   "execution_count": null,
   "metadata": {},
   "outputs": [],
   "source": [
    "%matplotlib inline\n",
    "import numpy as np\n",
    "import matplotlib.pyplot as plt\n",
    "\n",
    "%load_ext autoreload\n",
    "%autoreload 2\n",
    "\n",
    "# Load test module for sanity check\n",
    "from test_utils import test"
   ]
  },
  {
   "cell_type": "markdown",
   "metadata": {
    "id": "TYyZPqnPmhYC"
   },
   "source": [
    "Data Generation\n",
    "==="
   ]
  },
  {
   "cell_type": "code",
   "execution_count": null,
   "metadata": {},
   "outputs": [],
   "source": [
    "from numpy.random import rand, randn"
   ]
  },
  {
   "cell_type": "code",
   "execution_count": null,
   "metadata": {},
   "outputs": [],
   "source": [
    "n, d, k = 100, 2, 2"
   ]
  },
  {
   "cell_type": "code",
   "execution_count": null,
   "metadata": {},
   "outputs": [],
   "source": [
    "np.random.seed(20)\n",
    "X = rand(n, d)\n",
    "\n",
    "# means = [rand(d)  for _ in range(k)]  # works for any k\n",
    "means = [rand(d) * 0.5 + 0.5, -rand(d) * 0.5 + 0.5]  # for better plotting when k = 2\n",
    "\n",
    "S = np.diag(rand(d))\n",
    "\n",
    "sigmas = [S] * k  # we'll use the same Sigma for all clusters for better visual results\n",
    "\n",
    "print(means)\n",
    "print(sigmas)"
   ]
  },
  {
   "cell_type": "markdown",
   "metadata": {},
   "source": [
    "## Computing the probability density"
   ]
  },
  {
   "cell_type": "code",
   "execution_count": null,
   "metadata": {},
   "outputs": [],
   "source": [
    "def compute_p(X, mean, sigma):\n",
    "    \"\"\"\n",
    "    Compute the probability of each data point in X under a Gaussian distribution\n",
    "\n",
    "    Args:\n",
    "        X: (n, d) numpy array, where each row corresponds to a data point\n",
    "        mean: (d, ) numpy array, the mean of the Gaussian distribution\n",
    "        sigma: (d, d) numpy array, the covariance matrix of the Gaussian distribution\n",
    "\n",
    "    Returns:\n",
    "        p: (n, ) numpy array, the probability of each data point\n",
    "\n",
    "    >>> compute_p(np.array([[0, 0], [1, 1]]), np.array([0, 0]), np.eye(2))\n",
    "    array([0.15915494, 0.05854983])\n",
    "    \"\"\"\n",
    "    # ***************************************************\n",
    "    # INSERT YOUR CODE HERE\n",
    "    # ***************************************************\n",
    "    return np.exp(-(1/2) * (X-mean) @ np.linalg.inv(sigma) @ (X-mean))/(((2*np.pi)**(X.shape[0]/2))*sigma.det()**0.5)\n",
    "\n",
    "\n",
    "test(compute_p)"
   ]
  },
  {
   "cell_type": "code",
   "execution_count": null,
   "metadata": {},
   "outputs": [],
   "source": [
    "ps = [\n",
    "    compute_p(X, m, s) for m, s in zip(means, sigmas)\n",
    "]  # exercise: try to do this without looping"
   ]
  },
  {
   "cell_type": "code",
   "execution_count": null,
   "metadata": {},
   "outputs": [],
   "source": [
    "assignments = np.argmax(ps, axis=0)\n",
    "print(assignments)"
   ]
  },
  {
   "cell_type": "code",
   "execution_count": null,
   "metadata": {},
   "outputs": [],
   "source": [
    "colors = np.array([\"red\", \"green\"])[assignments]\n",
    "plt.scatter(X[:, 0], X[:, 1], c=colors, s=100)\n",
    "plt.scatter(np.array(means)[:, 0], np.array(means)[:, 1], marker=\"*\", s=200)\n",
    "plt.show()"
   ]
  },
  {
   "cell_type": "markdown",
   "metadata": {
    "id": "VsIOpA8QmhYI"
   },
   "source": [
    "Solution\n",
    "==="
   ]
  },
  {
   "cell_type": "code",
   "execution_count": null,
   "metadata": {},
   "outputs": [],
   "source": [
    "def compute_log_p(X, mean, sigma):\n",
    "    \"\"\"\n",
    "    Compute the log probability of each data point in X under a Gaussian distribution\n",
    "\n",
    "    Args:\n",
    "        X: (n, d) numpy array, where each row corresponds to a data point\n",
    "        mean: (d, ) numpy array, the mean of the Gaussian distribution\n",
    "        sigma: (d, d) numpy array, the covariance matrix of the Gaussian distribution\n",
    "\n",
    "    Returns:\n",
    "        log_p: (n, ) numpy array, the log probability of each data point\n",
    "\n",
    "    >>> compute_log_p(np.array([[0, 0], [1, 1]]), np.array([0, 0]), np.eye(2))\n",
    "    array([-1.83787707, -2.83787707])\n",
    "    \"\"\"\n",
    "    # ***************************************************\n",
    "    # INSERT YOUR CODE HERE\n",
    "    # ***************************************************\n",
    "    raise NotImplementedError\n",
    "\n",
    "\n",
    "test(compute_log_p)"
   ]
  },
  {
   "cell_type": "code",
   "execution_count": null,
   "metadata": {},
   "outputs": [],
   "source": [
    "log_ps = [\n",
    "    compute_log_p(X, m, s) for m, s in zip(means, sigmas)\n",
    "]  # exercise: try to do this without looping"
   ]
  },
  {
   "cell_type": "code",
   "execution_count": null,
   "metadata": {},
   "outputs": [],
   "source": [
    "assignments = np.argmax(log_ps, axis=0)\n",
    "print(assignments)"
   ]
  },
  {
   "cell_type": "code",
   "execution_count": null,
   "metadata": {},
   "outputs": [],
   "source": [
    "colors = np.array([\"red\", \"green\"])[assignments]\n",
    "plt.scatter(X[:, 0], X[:, 1], c=colors, s=100)\n",
    "plt.scatter(np.array(means)[:, 0], np.array(means)[:, 1], marker=\"*\", s=200)\n",
    "plt.show()"
   ]
  },
  {
   "cell_type": "code",
   "execution_count": null,
   "metadata": {},
   "outputs": [],
   "source": []
  }
 ],
 "metadata": {
  "kernelspec": {
   "display_name": "modern_nlp",
   "language": "python",
   "name": "python3"
  },
  "language_info": {
   "name": "python",
   "version": "3.7.16"
  }
 },
 "nbformat": 4,
 "nbformat_minor": 1
}
